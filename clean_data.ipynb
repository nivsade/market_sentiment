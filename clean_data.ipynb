{
 "cells": [
  {
   "cell_type": "code",
   "execution_count": null,
   "id": "e7e129a6-1a73-42e4-952d-b6b6b5ca668d",
   "metadata": {},
   "outputs": [],
   "source": [
    "!pip install pandas"
   ]
  },
  {
   "cell_type": "code",
   "execution_count": 1,
   "id": "288a61c0-727a-4e9e-84f2-bf1b6b65a9a4",
   "metadata": {},
   "outputs": [],
   "source": [
    "import re as re\n",
    "import pandas as pd"
   ]
  },
  {
   "cell_type": "code",
   "execution_count": 2,
   "id": "2adcff30-660d-41b3-bd7e-27e0ec292f1e",
   "metadata": {},
   "outputs": [
    {
     "name": "stderr",
     "output_type": "stream",
     "text": [
      "/tmp/ipykernel_665/1895396563.py:1: DtypeWarning: Columns (1) have mixed types. Specify dtype option on import or set low_memory=False.\n",
      "  fb = pd.read_csv(\"fb-israeli-pages-with-text.csv.gz\") #3,931,344 מס שורות\n"
     ]
    }
   ],
   "source": [
    "fb = pd.read_csv(\"fb-israeli-pages-with-text.csv.gz\") #3,931,344 מס שורות"
   ]
  },
  {
   "cell_type": "code",
   "execution_count": 3,
   "id": "4529b60a-473c-4efd-bd7b-57e13da98dd1",
   "metadata": {},
   "outputs": [],
   "source": [
    "# ניקוי דאטה\n",
    "fb = fb.drop(columns=['link', 'caption', 'account.handle','comments', 'likes','id','description','title'])\n",
    "fb = fb.dropna()\n",
    "fb = fb.drop_duplicates()#3,926,60"
   ]
  },
  {
   "cell_type": "code",
   "execution_count": 4,
   "id": "01024faf-5a9f-422b-8391-bf02f2deb3a4",
   "metadata": {},
   "outputs": [],
   "source": [
    "tweets2018 = pd.read_csv(\"2018tweets.csv\")"
   ]
  },
  {
   "cell_type": "code",
   "execution_count": 5,
   "id": "d420a813-ac82-4fe8-a461-b76b90771428",
   "metadata": {},
   "outputs": [],
   "source": [
    "tweets2018 = tweets2018.drop(columns=['author_id', 'id'])"
   ]
  },
  {
   "cell_type": "code",
   "execution_count": 6,
   "id": "3a2afb37-f40c-4bfa-bb36-f8826a837c46",
   "metadata": {},
   "outputs": [],
   "source": [
    "# 2. פונקציה לבדיקת מילים באנגלית\n",
    "def contains_english(text):\n",
    "    if isinstance(text, str):  # בדיקה אם הערך הוא מחרוזת\n",
    "        return bool(re.search(r\"[a-zA-Z]\", text))\n",
    "    return False\n",
    "#מכיל שורות 1,576,908\n",
    "\n",
    "# 3. פונקציה לבדיקה אם הטקסט מכיל ערבית\n",
    "def contains_arabic(text):\n",
    "    if isinstance(text, str):  # בדיקה אם הערך הוא מחרוזת\n",
    "        return bool(re.search(r\"[\\u0600-\\u06FF]\", text))  # טווח Unicode לערבית\n",
    "    return False\n",
    "\n",
    "def clean_text(text):\n",
    "    import re\n",
    "    text = re.sub(r\"http\\S+\", \"\", text)  # הסרת קישורים\n",
    "    text = re.sub(r\"[^\\w\\s]\", \"\", text)  # הסרת סימני פיסוק\n",
    "    return text\n"
   ]
  },
  {
   "cell_type": "code",
   "execution_count": 5,
   "id": "0ec8f3af-dafd-40f9-8f20-ca9f7bb8bf68",
   "metadata": {},
   "outputs": [
    {
     "name": "stderr",
     "output_type": "stream",
     "text": [
      "/tmp/ipykernel_665/184419762.py:3: SettingWithCopyWarning: \n",
      "A value is trying to be set on a copy of a slice from a DataFrame.\n",
      "Try using .loc[row_indexer,col_indexer] = value instead\n",
      "\n",
      "See the caveats in the documentation: https://pandas.pydata.org/pandas-docs/stable/user_guide/indexing.html#returning-a-view-versus-a-copy\n",
      "  fb_hebrew['message'] = fb_hebrew['message'].apply(clean_text)\n"
     ]
    },
    {
     "data": {
      "text/plain": [
       "1454719"
      ]
     },
     "execution_count": 5,
     "metadata": {},
     "output_type": "execute_result"
    }
   ],
   "source": [
    "fb = fb[~fb['message'].apply(contains_arabic)]\n",
    "fb_hebrew =  fb[~fb['message'].apply(contains_english)]\n",
    "fb_hebrew['message'] = fb_hebrew['message'].apply(clean_text)\n",
    "fb.shape[0]\n",
    "fb_hebrew.shape[0] #1,454,719"
   ]
  },
  {
   "cell_type": "code",
   "execution_count": 7,
   "id": "49f30979-6da4-4d6a-9048-78f061f8aa27",
   "metadata": {},
   "outputs": [
    {
     "data": {
      "text/plain": [
       "(201996, 3)"
      ]
     },
     "execution_count": 7,
     "metadata": {},
     "output_type": "execute_result"
    }
   ],
   "source": [
    "tweets2018 = tweets2018[~tweets2018['text'].apply(contains_arabic)]\n",
    "tweets2018 =  tweets2018[~tweets2018['text'].apply(contains_english)]\n",
    "tweets2018['text'] = tweets2018['text'].apply(clean_text)\n",
    "tweets2018 = tweets2018[tweets2018['text'].str.len() > 2] \n",
    "tweets2018 = tweets2018[tweets2018['text'].str.len() < 750]\n",
    "tweets2018 = tweets2018.drop_duplicates(subset=['text'])\n",
    "tweets2018.shape #201,996"
   ]
  },
  {
   "cell_type": "code",
   "execution_count": 6,
   "id": "64a07bc0-6c05-483c-a038-10095b9b7984",
   "metadata": {},
   "outputs": [
    {
     "data": {
      "text/plain": [
       "1383050"
      ]
     },
     "execution_count": 6,
     "metadata": {},
     "output_type": "execute_result"
    }
   ],
   "source": [
    "fb_hebrew = fb_hebrew[fb_hebrew['message'].str.len() > 2] #1,384,575\n",
    "fb_hebrew = fb_hebrew[fb_hebrew['message'].str.len() < 750] #1,384,575\n",
    "fb_hebrew.shape[0]#1,383,050"
   ]
  },
  {
   "cell_type": "code",
   "execution_count": 7,
   "id": "c2f79380-e0e5-46f0-881a-8ceacd6ad029",
   "metadata": {},
   "outputs": [
    {
     "name": "stdout",
     "output_type": "stream",
     "text": [
      "הנתונים הנקיים נשמרו בקובץ fb_hebrew.csv\n"
     ]
    }
   ],
   "source": [
    "fb_hebrew.to_csv('fb_hebrew', index=False, encoding='utf-8-sig')\n",
    "print(\"הנתונים הנקיים נשמרו בקובץ fb_hebrew.csv\")"
   ]
  },
  {
   "cell_type": "code",
   "execution_count": 8,
   "id": "d70fda31-af8b-4b35-a95f-c6a9f0406fda",
   "metadata": {},
   "outputs": [],
   "source": [
    "tweets2018.to_csv('tweets2018_clean', index=False, encoding='utf-8-sig')"
   ]
  },
  {
   "cell_type": "code",
   "execution_count": 4,
   "id": "9681fcbe-0281-4117-b2a6-25a8802ca673",
   "metadata": {},
   "outputs": [],
   "source": [
    "fb_1 = pd.read_csv(\"fb_hebrew\") #3,931,344 מס שורות"
   ]
  },
  {
   "cell_type": "code",
   "execution_count": null,
   "id": "d2c69fa7-9bfd-414a-85c1-2589ffcd29d9",
   "metadata": {},
   "outputs": [],
   "source": [
    "fb = pd.read_csv(\"fb-israeli-pages-with-text.csv.gz\") #3,931,344 מס שורות"
   ]
  },
  {
   "cell_type": "code",
   "execution_count": 36,
   "id": "b9586d82-2040-407f-bdf7-2f4b66340f09",
   "metadata": {},
   "outputs": [
    {
     "name": "stderr",
     "output_type": "stream",
     "text": [
      "/tmp/ipykernel_98/2529199437.py:1: DtypeWarning: Columns (1) have mixed types. Specify dtype option on import or set low_memory=False.\n",
      "  fb = pd.read_csv(\"fb-israeli-pages-with-text.csv.gz\") #3,931,344 מס שורות\n",
      "/tmp/ipykernel_98/2529199437.py:8: SettingWithCopyWarning: \n",
      "A value is trying to be set on a copy of a slice from a DataFrame.\n",
      "Try using .loc[row_indexer,col_indexer] = value instead\n",
      "\n",
      "See the caveats in the documentation: https://pandas.pydata.org/pandas-docs/stable/user_guide/indexing.html#returning-a-view-versus-a-copy\n",
      "  fb_english['message'] = fb_english['message'].apply(clean_text)\n",
      "No model was supplied, defaulted to distilbert/distilbert-base-uncased-finetuned-sst-2-english and revision 714eb0f (https://huggingface.co/distilbert/distilbert-base-uncased-finetuned-sst-2-english).\n",
      "Using a pipeline without specifying a model name and revision in production is not recommended.\n",
      "Device set to use cpu\n",
      "/tmp/ipykernel_98/2529199437.py:25: SettingWithCopyWarning: \n",
      "A value is trying to be set on a copy of a slice from a DataFrame.\n",
      "Try using .loc[row_indexer,col_indexer] = value instead\n",
      "\n",
      "See the caveats in the documentation: https://pandas.pydata.org/pandas-docs/stable/user_guide/indexing.html#returning-a-view-versus-a-copy\n",
      "  fb_english_100['sentiment'], fb_english_100['score'] = zip(*fb_english_100['message'].apply(analyze_sentiment))\n",
      "/tmp/ipykernel_98/2529199437.py:25: SettingWithCopyWarning: \n",
      "A value is trying to be set on a copy of a slice from a DataFrame.\n",
      "Try using .loc[row_indexer,col_indexer] = value instead\n",
      "\n",
      "See the caveats in the documentation: https://pandas.pydata.org/pandas-docs/stable/user_guide/indexing.html#returning-a-view-versus-a-copy\n",
      "  fb_english_100['sentiment'], fb_english_100['score'] = zip(*fb_english_100['message'].apply(analyze_sentiment))\n"
     ]
    }
   ],
   "source": [
    "def contains_only_english(text):\n",
    "    if isinstance(text, str):  # בדיקה אם הערך הוא מחרוזת\n",
    "        # אם לא נמצאו אותיות בעברית, נשמור את השורה\n",
    "        return not bool(re.search(r\"[\\u0590-\\u05FF]\", text))\n",
    "    return False  # עבור ערכים שאינם מחרוזת\n",
    "fb_english = fb[fb[\"message\"].apply(contains_only_english)]\n",
    "fb_english['message'] = fb_english['message'].apply(clean_text)\n",
    "fb_english = fb_english[fb_english['message'].str.len() < 750]\n",
    "fb_english = fb_english[fb_english['message'].str.len() > 1 ]\n",
    "\n",
    "fb_english_100 = fb_english[:100]\n",
    "\n",
    "from transformers import pipeline\n",
    "# טעינת המודל לניתוח סנטימנט\n",
    "sentiment_analyzer = pipeline(\"sentiment-analysis\")\n",
    "# פונקציה לניתוח סנטימנט\n",
    "def analyze_sentiment(text):\n",
    "    try:\n",
    "        result = sentiment_analyzer(text[:512])  # מגבלת אורך של 512 תווים\n",
    "        return result[0]['label'], result[0]['score']\n",
    "    except Exception as e:\n",
    "        return \"ERROR\", 0.0\n",
    "# הוספת עמודות סנטימנט לדאטה\n",
    "fb_english_100['sentiment'], fb_english_100['score'] = zip(*fb_english_100['message'].apply(analyze_sentiment))\n",
    "fb_english_100.head()\n",
    "fb_english_100.to_csv(\"english_only_with_sentiment.csv\", index=False)"
   ]
  },
  {
   "cell_type": "code",
   "execution_count": null,
   "id": "aae734e6-a022-4440-98f8-932f6e2fefbf",
   "metadata": {},
   "outputs": [],
   "source": []
  },
  {
   "cell_type": "code",
   "execution_count": null,
   "id": "ceddc36e-16ec-4a23-8bf8-e5f0e5688fcb",
   "metadata": {},
   "outputs": [],
   "source": [
    "classifier = pipeline(\"text-classification\", model=\"cardiffnlp/twitter-roberta-base-sentiment\")\n",
    "# פונקציה לסיווג אם הפוסט פיננסי\n",
    "def is_financial_classification(text)\n",
    "    try:\n",
    "        result = classifier(text[:512])\n",
    "        return \"finance\" in result[0]['label'].lower()  # בדיקה אם המודל מזהה את זה כפיננסי\n",
    "    except:\n",
    "        return False\n",
    "# סינון פוסטים פיננסיים\n",
    "financial_posts = fb_english[fb_english['message'].apply(is_financial_classification)]\n",
    "print(financial_posts.head())"
   ]
  }
 ],
 "metadata": {
  "kernelspec": {
   "display_name": "Python 3 (ipykernel)",
   "language": "python",
   "name": "python3"
  },
  "language_info": {
   "codemirror_mode": {
    "name": "ipython",
    "version": 3
   },
   "file_extension": ".py",
   "mimetype": "text/x-python",
   "name": "python",
   "nbconvert_exporter": "python",
   "pygments_lexer": "ipython3",
   "version": "3.11.6"
  }
 },
 "nbformat": 4,
 "nbformat_minor": 5
}
